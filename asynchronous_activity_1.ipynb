{
  "nbformat": 4,
  "nbformat_minor": 0,
  "metadata": {
    "colab": {
      "provenance": [],
      "authorship_tag": "ABX9TyMF2OJ5/OTDl3VYFo/GPSKj",
      "include_colab_link": true
    },
    "kernelspec": {
      "name": "python3",
      "display_name": "Python 3"
    },
    "language_info": {
      "name": "python"
    }
  },
  "cells": [
    {
      "cell_type": "markdown",
      "metadata": {
        "id": "view-in-github",
        "colab_type": "text"
      },
      "source": [
        "<a href=\"https://colab.research.google.com/github/SorianoHannah1/PLNG211-QC/blob/main/asynchronous_activity_1.ipynb\" target=\"_parent\"><img src=\"https://colab.research.google.com/assets/colab-badge.svg\" alt=\"Open In Colab\"/></a>"
      ]
    },
    {
      "cell_type": "code",
      "execution_count": null,
      "metadata": {
        "id": "o--ua2CM43Iz",
        "colab": {
          "base_uri": "https://localhost:8080/"
        },
        "outputId": "db995957-470a-4bb8-99b1-fc92926e263f"
      },
      "outputs": [
        {
          "output_type": "stream",
          "name": "stdout",
          "text": [
            "Net Pay =  6300.0\n"
          ]
        }
      ],
      "source": [
        "#Asynchronous Activity\n",
        "\n",
        "Salary_rate = 600\n",
        "Salary = Salary_rate * 15\n",
        "Taxable_amount = 0.3 * Salary\n",
        "Net_pay = Salary - Taxable_amount\n",
        "\n",
        "print(\"Net Pay = \", Net_pay)\n"
      ]
    }
  ]
}