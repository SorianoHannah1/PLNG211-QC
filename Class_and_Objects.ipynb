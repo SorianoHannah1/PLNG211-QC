{
  "nbformat": 4,
  "nbformat_minor": 0,
  "metadata": {
    "colab": {
      "provenance": [],
      "authorship_tag": "ABX9TyMvpHVFS0l5msg7OhE4EkPe",
      "include_colab_link": true
    },
    "kernelspec": {
      "name": "python3",
      "display_name": "Python 3"
    },
    "language_info": {
      "name": "python"
    }
  },
  "cells": [
    {
      "cell_type": "markdown",
      "metadata": {
        "id": "view-in-github",
        "colab_type": "text"
      },
      "source": [
        "<a href=\"https://colab.research.google.com/github/SorianoHannah1/PLNG211-QC/blob/main/Class_and_Objects.ipynb\" target=\"_parent\"><img src=\"https://colab.research.google.com/assets/colab-badge.svg\" alt=\"Open In Colab\"/></a>"
      ]
    },
    {
      "cell_type": "code",
      "source": [
        "class Person:\n",
        "  def __init__(self,name,age):\n",
        "    self.name = name                #attributes\n",
        "    self.age = age\n",
        "\n",
        "  def Name(self,name):\n",
        "    print(\"The person is\"+self.name)\n",
        "\n",
        "person1 = Person(\"Ana\",36)         #instantiation/add a value to an attribute\n",
        "print(\"The name of the person is:\",person1.name)\n",
        "print(\"The age of the person is:\",person1.age)"
      ],
      "metadata": {
        "colab": {
          "base_uri": "https://localhost:8080/"
        },
        "id": "re9YZ7U-2QLi",
        "outputId": "7ee99b69-57aa-455a-fbb5-44b240dc7f41"
      },
      "execution_count": null,
      "outputs": [
        {
          "output_type": "stream",
          "name": "stdout",
          "text": [
            "The name of the person is: Ana\n",
            "The age of the person is: 36\n"
          ]
        }
      ]
    },
    {
      "cell_type": "code",
      "source": [
        "class Person:\n",
        "  def __init__(self,name,age):\n",
        "    self.name = name                #attributes\n",
        "    self.age = age\n",
        "class Student(Person):\n",
        "  pass\n",
        "\n",
        "class Teacher(Person):\n",
        "  pass\n",
        "person1 = Person(\"Ana\",36)         #instantiation/add a value to an attribute\n",
        "print(\"The name of the person is:\",person1.name)\n",
        "print(\"The age of the person is:\",person1.age)\n",
        "\n",
        "person2 = Student(\"Lino\",32)      #inheritance\n",
        "print(\"The name of the student is:\",person2.name)\n",
        "print(\"The age of the student is:\",person2.age)\n",
        "\n",
        "person3 = Teacher(\"Maria\",39)\n",
        "print(\"The name of the teacher is:\",person3.name)\n",
        "print(\"The age of the teacher is:\",person3.age)"
      ],
      "metadata": {
        "colab": {
          "base_uri": "https://localhost:8080/"
        },
        "id": "Yq1TGU7E2YsK",
        "outputId": "730e554b-4f69-4db7-f7cf-004ef8b62ec1"
      },
      "execution_count": null,
      "outputs": [
        {
          "output_type": "stream",
          "name": "stdout",
          "text": [
            "The name of the person is: Ana\n",
            "The age of the person is: 36\n",
            "The name of the student is: Lino\n",
            "The age of the student is: 32\n",
            "The name of the teacher is: Maria\n",
            "The age of the teacher is: 39\n"
          ]
        }
      ]
    },
    {
      "cell_type": "markdown",
      "source": [
        "APPLICATION #1"
      ],
      "metadata": {
        "id": "OYJmJL2SRxk3"
      }
    },
    {
      "cell_type": "code",
      "source": [
        "class rectangle():\n",
        "  def __init__(rec, width, length):\n",
        "    rec.width = width\n",
        "    rec.length = length\n",
        "\n",
        "  def perimeter(rec):\n",
        "    return (rec.width + rec.length) * 2\n",
        "\n",
        "  def area(rec):\n",
        "    return rec.width * rec.length\n",
        "\n",
        "recWidth = int(input(\"Enter width of rectangle: \"))\n",
        "recLength = int(input(\"Enter length of rectangle: \"))\n",
        "\n",
        "rectangleAreaPerim = rectangle(recWidth, recLength)\n",
        "\n",
        "print(\"The area of rectangle is: \", rectangleAreaPerim.area())\n",
        "print(\"The perimeter of rectangle is: \", rectangleAreaPerim.perimeter())"
      ],
      "metadata": {
        "colab": {
          "base_uri": "https://localhost:8080/"
        },
        "id": "2zYKwpIIR082",
        "outputId": "67615e7d-c80e-41e5-8b9f-732b93cc29f8"
      },
      "execution_count": 5,
      "outputs": [
        {
          "output_type": "stream",
          "name": "stdout",
          "text": [
            "Enter width of rectangle: 3\n",
            "Enter length of rectangle: 3\n",
            "The area of rectangle is:  9\n",
            "The perimeter of rectangle is:  12\n"
          ]
        }
      ]
    }
  ]
}