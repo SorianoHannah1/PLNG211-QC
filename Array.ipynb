{
  "nbformat": 4,
  "nbformat_minor": 0,
  "metadata": {
    "colab": {
      "provenance": [],
      "authorship_tag": "ABX9TyO72Gc+76OiM1SuJIHxT8Op",
      "include_colab_link": true
    },
    "kernelspec": {
      "name": "python3",
      "display_name": "Python 3"
    },
    "language_info": {
      "name": "python"
    }
  },
  "cells": [
    {
      "cell_type": "markdown",
      "metadata": {
        "id": "view-in-github",
        "colab_type": "text"
      },
      "source": [
        "<a href=\"https://colab.research.google.com/github/SorianoHannah1/PLNG211-QC/blob/main/Array.ipynb\" target=\"_parent\"><img src=\"https://colab.research.google.com/assets/colab-badge.svg\" alt=\"Open In Colab\"/></a>"
      ]
    },
    {
      "cell_type": "code",
      "execution_count": 1,
      "metadata": {
        "colab": {
          "base_uri": "https://localhost:8080/"
        },
        "id": "mTzmgmaZL2TE",
        "outputId": "a20b4a31-7c75-46a9-d662-45ee3010fe21"
      },
      "outputs": [
        {
          "output_type": "stream",
          "name": "stdout",
          "text": [
            "The animals are: ['cat', 'dog', 'fish']\n",
            "The animal in the first list is cat\n"
          ]
        }
      ],
      "source": [
        "#Accessing the elements in the array\n",
        "animals = ['cat','dog','fish']\n",
        "print('The animals are:',animals)\n",
        "print('The animal in the first list is',animals[0])"
      ]
    },
    {
      "cell_type": "code",
      "source": [
        "#Modifying the element/s in the array\n",
        "animals = ['cat','dog','fish']\n",
        "animals[0]= 'monkey'\n",
        "print(animals)"
      ],
      "metadata": {
        "colab": {
          "base_uri": "https://localhost:8080/"
        },
        "id": "gu-e8G88MOS6",
        "outputId": "b7dfbe88-f9b1-418f-ea95-ae25b9f0c17a"
      },
      "execution_count": 2,
      "outputs": [
        {
          "output_type": "stream",
          "name": "stdout",
          "text": [
            "['monkey', 'dog', 'fish']\n"
          ]
        }
      ]
    },
    {
      "cell_type": "code",
      "source": [
        "#Length of the array\n",
        "animals = ['cat','dog','fish']\n",
        "x= len(animals)\n",
        "print(x)"
      ],
      "metadata": {
        "colab": {
          "base_uri": "https://localhost:8080/"
        },
        "id": "0Lp_U_NrMQo_",
        "outputId": "2bd67818-ce9a-467d-9851-1457739629e3"
      },
      "execution_count": 3,
      "outputs": [
        {
          "output_type": "stream",
          "name": "stdout",
          "text": [
            "3\n"
          ]
        }
      ]
    },
    {
      "cell_type": "code",
      "source": [
        "#Looping Array Elements\n",
        "animals = ['cat','dog','fish']\n",
        "for x in animals:\n",
        "  print(x)"
      ],
      "metadata": {
        "colab": {
          "base_uri": "https://localhost:8080/"
        },
        "id": "g5S9xBiAMSea",
        "outputId": "01da9e34-78dc-46f0-9d47-33433ed59d79"
      },
      "execution_count": 4,
      "outputs": [
        {
          "output_type": "stream",
          "name": "stdout",
          "text": [
            "cat\n",
            "dog\n",
            "fish\n"
          ]
        }
      ]
    },
    {
      "cell_type": "code",
      "source": [
        "#Adding elements in the last list of an array\n",
        "animals = ['cat','dog','fish']\n",
        "animals.insert(1,'monkey')\n",
        "print(animals)\n",
        "#append\n",
        "animals.append('bird')\n",
        "print(animals)"
      ],
      "metadata": {
        "colab": {
          "base_uri": "https://localhost:8080/"
        },
        "id": "uR20L5LQMS84",
        "outputId": "1bcfe25d-89e3-472f-aebe-0707050e3033"
      },
      "execution_count": 5,
      "outputs": [
        {
          "output_type": "stream",
          "name": "stdout",
          "text": [
            "['cat', 'monkey', 'dog', 'fish']\n",
            "['cat', 'monkey', 'dog', 'fish', 'bird']\n"
          ]
        }
      ]
    },
    {
      "cell_type": "code",
      "source": [
        "#Removing\n",
        "animals.pop(3)\n",
        "print(animals)"
      ],
      "metadata": {
        "colab": {
          "base_uri": "https://localhost:8080/"
        },
        "id": "fovioWHSMVeP",
        "outputId": "274bc0fc-bef0-45d3-c6c2-213f513fa349"
      },
      "execution_count": 6,
      "outputs": [
        {
          "output_type": "stream",
          "name": "stdout",
          "text": [
            "['cat', 'monkey', 'dog', 'bird']\n"
          ]
        }
      ]
    },
    {
      "cell_type": "code",
      "source": [
        "from array import *\n",
        "#Pycharm community/student\n",
        "\n",
        "a= array('i',[1,2,3])\n",
        "print(a)\n",
        "a.typecode"
      ],
      "metadata": {
        "colab": {
          "base_uri": "https://localhost:8080/",
          "height": 53
        },
        "id": "utOfNeXXMXy1",
        "outputId": "7f085a2c-5517-4075-a6d4-366e111df5e6"
      },
      "execution_count": 7,
      "outputs": [
        {
          "output_type": "stream",
          "name": "stdout",
          "text": [
            "array('i', [1, 2, 3])\n"
          ]
        },
        {
          "output_type": "execute_result",
          "data": {
            "text/plain": [
              "'i'"
            ],
            "application/vnd.google.colaboratory.intrinsic+json": {
              "type": "string"
            }
          },
          "metadata": {},
          "execution_count": 7
        }
      ]
    },
    {
      "cell_type": "code",
      "source": [
        "from array import *\n",
        "a= array('i',[1,2,3])\n",
        "a.itemsize"
      ],
      "metadata": {
        "colab": {
          "base_uri": "https://localhost:8080/"
        },
        "id": "rHowqKQpMZuz",
        "outputId": "3db49e7f-6813-48b5-cdd0-edfc790781bb"
      },
      "execution_count": 9,
      "outputs": [
        {
          "output_type": "execute_result",
          "data": {
            "text/plain": [
              "4"
            ]
          },
          "metadata": {},
          "execution_count": 9
        }
      ]
    },
    {
      "cell_type": "code",
      "source": [
        "from array import *\n",
        "a= array('i',[1,2,3])\n",
        "a.append(4)\n",
        "print(a)"
      ],
      "metadata": {
        "colab": {
          "base_uri": "https://localhost:8080/"
        },
        "id": "3x1Fh3ZGMbUk",
        "outputId": "7383dfe2-a2e7-4621-84c6-48ef2301ce80"
      },
      "execution_count": 10,
      "outputs": [
        {
          "output_type": "stream",
          "name": "stdout",
          "text": [
            "array('i', [1, 2, 3, 4])\n"
          ]
        }
      ]
    },
    {
      "cell_type": "code",
      "source": [
        "from array import *\n",
        "a= array('i',[1,2,3])\n",
        "a.byteswap()\n",
        "print(a)"
      ],
      "metadata": {
        "colab": {
          "base_uri": "https://localhost:8080/"
        },
        "id": "dZ67EpEdMdIw",
        "outputId": "c3e655e2-c81a-4b95-926f-c70011b67bdd"
      },
      "execution_count": 11,
      "outputs": [
        {
          "output_type": "stream",
          "name": "stdout",
          "text": [
            "array('i', [16777216, 33554432, 50331648])\n"
          ]
        }
      ]
    },
    {
      "cell_type": "code",
      "source": [
        "from array import *\n",
        "a= array('i',[1,2,3,3])\n",
        "a.count(3)"
      ],
      "metadata": {
        "colab": {
          "base_uri": "https://localhost:8080/"
        },
        "id": "JICAr0tVMehD",
        "outputId": "a86c25d5-f9e3-410c-a5a4-5a74bb678f06"
      },
      "execution_count": 12,
      "outputs": [
        {
          "output_type": "execute_result",
          "data": {
            "text/plain": [
              "2"
            ]
          },
          "metadata": {},
          "execution_count": 12
        }
      ]
    },
    {
      "cell_type": "code",
      "source": [
        "from array import *\n",
        "a= array('i',[1,2,3])\n",
        "a.insert(1,4)\n",
        "print(a)"
      ],
      "metadata": {
        "colab": {
          "base_uri": "https://localhost:8080/"
        },
        "id": "jok6-InJMgkU",
        "outputId": "86b7153d-5737-495f-8a22-bd2a3700c9f7"
      },
      "execution_count": 13,
      "outputs": [
        {
          "output_type": "stream",
          "name": "stdout",
          "text": [
            "array('i', [1, 4, 2, 3])\n"
          ]
        }
      ]
    }
  ]
}