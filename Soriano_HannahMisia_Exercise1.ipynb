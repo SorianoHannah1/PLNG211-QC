{
  "nbformat": 4,
  "nbformat_minor": 0,
  "metadata": {
    "colab": {
      "provenance": [],
      "authorship_tag": "ABX9TyOFZqDvRVgGrxQNxC54rMZd",
      "include_colab_link": true
    },
    "kernelspec": {
      "name": "python3",
      "display_name": "Python 3"
    },
    "language_info": {
      "name": "python"
    }
  },
  "cells": [
    {
      "cell_type": "markdown",
      "metadata": {
        "id": "view-in-github",
        "colab_type": "text"
      },
      "source": [
        "<a href=\"https://colab.research.google.com/github/SorianoHannah1/PLNG211-QC/blob/main/Soriano_HannahMisia_Exercise1.ipynb\" target=\"_parent\"><img src=\"https://colab.research.google.com/assets/colab-badge.svg\" alt=\"Open In Colab\"/></a>"
      ]
    },
    {
      "cell_type": "code",
      "source": [
        "nums = []\n",
        "print(\"Enter 6 elements for the list: \")\n",
        "for i in range(6):\n",
        "    val = int(input())\n",
        "    nums.append(val)\n",
        "\n",
        "sum = 0\n",
        "\n",
        "for i in range(6):\n",
        "    if nums[i]%2 == 0:\n",
        "        sum = sum + nums[i]\n",
        "\n",
        "print(\"\\nSum of Even Numbers is\", sum)"
      ],
      "metadata": {
        "colab": {
          "base_uri": "https://localhost:8080/"
        },
        "id": "1WqtVVAyZjq0",
        "outputId": "ba2fa0b8-86dd-43a7-a855-d5b753a797ae"
      },
      "execution_count": 10,
      "outputs": [
        {
          "output_type": "stream",
          "name": "stdout",
          "text": [
            "Enter 6 elements for the list: \n",
            "26\n",
            "49\n",
            "98\n",
            "87\n",
            "62\n",
            "75\n",
            "\n",
            "Sum of Even Numbers is 186\n"
          ]
        }
      ]
    }
  ]
}