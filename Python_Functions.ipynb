{
  "nbformat": 4,
  "nbformat_minor": 0,
  "metadata": {
    "colab": {
      "provenance": [],
      "authorship_tag": "ABX9TyM8tWI1barnQ5wuVqeoNz2f",
      "include_colab_link": true
    },
    "kernelspec": {
      "name": "python3",
      "display_name": "Python 3"
    },
    "language_info": {
      "name": "python"
    }
  },
  "cells": [
    {
      "cell_type": "markdown",
      "metadata": {
        "id": "view-in-github",
        "colab_type": "text"
      },
      "source": [
        "<a href=\"https://colab.research.google.com/github/SorianoHannah1/PLNG211-QC/blob/main/Python_Functions.ipynb\" target=\"_parent\"><img src=\"https://colab.research.google.com/assets/colab-badge.svg\" alt=\"Open In Colab\"/></a>"
      ]
    },
    {
      "cell_type": "code",
      "execution_count": 2,
      "metadata": {
        "colab": {
          "base_uri": "https://localhost:8080/"
        },
        "id": "k_F9wQkhfXQe",
        "outputId": "8e5c5a80-f14b-400b-ff0e-5b945a7a435f"
      },
      "outputs": [
        {
          "output_type": "stream",
          "name": "stdout",
          "text": [
            "100\n",
            "Celsius 37.78\n",
            "Kelvin 310.93\n"
          ]
        }
      ],
      "source": [
        "def convert_to_celcius(fahrenheit):\n",
        "  return (fahrenheit-32)*5/9\n",
        "\n",
        "def convert_to_kelvin(fahrenheit):\n",
        "  return ((fahrenheit-32)*5/9)+ 273.15\n",
        "fahrenheit= int(input())\n",
        "\n",
        "print(\"Celsius\",round(convert_to_celcius(fahrenheit),2))\n",
        "print(\"Kelvin\",round(convert_to_kelvin(fahrenheit),2))"
      ]
    },
    {
      "cell_type": "code",
      "source": [
        "def Name():\n",
        "  pass"
      ],
      "metadata": {
        "id": "NmUmd-YOfnxr"
      },
      "execution_count": null,
      "outputs": []
    },
    {
      "cell_type": "code",
      "source": [
        "def my_function(fname):\n",
        "  return(fname+\"Sayo\")\n",
        "\n",
        "print(my_function(\"Mam\"))\n",
        "print(my_function(\"Maria\"))\n",
        "print(my_function(\"Rizette\"))"
      ],
      "metadata": {
        "colab": {
          "base_uri": "https://localhost:8080/"
        },
        "id": "k8WyU-Gvfptb",
        "outputId": "8edb12bb-0715-4b58-908d-d96dc791af1f"
      },
      "execution_count": 3,
      "outputs": [
        {
          "output_type": "stream",
          "name": "stdout",
          "text": [
            "MamSayo\n",
            "MariaSayo\n",
            "RizetteSayo\n"
          ]
        }
      ]
    },
    {
      "cell_type": "code",
      "source": [
        "#Returns a value\n",
        "def myFunction(x):\n",
        "  return(5+x)\n",
        "\n",
        "print(myFunction(4))\n",
        "print(myFunction(5))\n",
        "print(myFunction(6))"
      ],
      "metadata": {
        "colab": {
          "base_uri": "https://localhost:8080/"
        },
        "id": "IC8ko2r7fsZr",
        "outputId": "10275e34-2662-4383-c10e-0b4b9d93061d"
      },
      "execution_count": 4,
      "outputs": [
        {
          "output_type": "stream",
          "name": "stdout",
          "text": [
            "9\n",
            "10\n",
            "11\n"
          ]
        }
      ]
    },
    {
      "cell_type": "code",
      "source": [
        "#Exercise 1\n",
        "print(min(2,3,4))\n",
        "print(max(2,-3,4,7,-5))\n",
        "print(max(2,-3,min(4,7),-5))"
      ],
      "metadata": {
        "colab": {
          "base_uri": "https://localhost:8080/"
        },
        "id": "N_UA3nvIfuyq",
        "outputId": "ccb02a95-6d71-4a17-8fa3-6967d4bb6f71"
      },
      "execution_count": 5,
      "outputs": [
        {
          "output_type": "stream",
          "name": "stdout",
          "text": [
            "2\n",
            "7\n",
            "4\n"
          ]
        }
      ]
    },
    {
      "cell_type": "code",
      "source": [
        "#Exercise 2\n",
        "import math\n",
        "\n",
        "def Sum(FirstInteger,SecondInteger,ThirdInteger):\n",
        "  return FirstInteger + SecondInteger + ThirdInteger\n",
        "def Average(FirstInteger,SecondInteger,ThirdInteger):\n",
        "  return (FirstInteger + SecondInteger + ThirdInteger)/33\n",
        "def SumofSquares(FirstInteger,SecondInteger,ThirdInteger):\n",
        "  return math.pow(FirstInteger,2) + math.pow(SecondInteger,2) + math.pow(ThirdInteger,2)\n",
        "\n",
        "FirstInteger= int(input())\n",
        "SecondInteger= int(input())\n",
        "ThirdInteger= int(input())\n",
        "\n",
        "print(\"Sum =\",Sum(FirstInteger,SecondInteger,ThirdInteger))\n",
        "print(\"Average =\",Average(FirstInteger,SecondInteger,ThirdInteger))\n",
        "print(\"Sum of Squares =\",SumofSquares(FirstInteger,SecondInteger,ThirdInteger))"
      ],
      "metadata": {
        "colab": {
          "base_uri": "https://localhost:8080/"
        },
        "id": "U-bz_H9zfwxt",
        "outputId": "90175ac9-1394-45c4-8c6a-ced75be3527c"
      },
      "execution_count": 9,
      "outputs": [
        {
          "output_type": "stream",
          "name": "stdout",
          "text": [
            "2\n",
            "3\n",
            "4\n",
            "Sum = 9\n",
            "Average = 0.2727272727272727\n",
            "Sum of Squares = 29.0\n"
          ]
        }
      ]
    }
  ]
}